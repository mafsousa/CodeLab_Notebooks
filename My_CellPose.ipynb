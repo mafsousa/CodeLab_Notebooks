{
  "nbformat": 4,
  "nbformat_minor": 0,
  "metadata": {
    "colab": {
      "name": "My_CellPose.ipynb",
      "provenance": []
    },
    "kernelspec": {
      "name": "python3",
      "display_name": "Python 3"
    }
  },
  "cells": [
    {
      "cell_type": "code",
      "metadata": {
        "id": "tmWtgdg12L2H",
        "colab_type": "code",
        "colab": {}
      },
      "source": [
        "import numpy as np\n",
        "import time, os, sys\n",
        "from urllib.parse import urlparse\n",
        "import skimage.io\n",
        "import matplotlib.pyplot as plt\n",
        "import matplotlib as mpl\n",
        "%matplotlib inline\n",
        "mpl.rcParams['figure.dpi'] = 300\n",
        "from cellpose import utils\n",
        "\n",
        "# I will download images from website\n",
        "urls = ['http://www.cellpose.org/static/images/img02.png',\n",
        "        'http://www.cellpose.org/static/images/img03.png',\n",
        "        'http://www.cellpose.org/static/images/img05.png']\n",
        "files = []\n",
        "for url in urls:\n",
        "    parts = urlparse(url)\n",
        "    filename = os.path.basename(parts.path)\n",
        "    if not os.path.exists(filename):\n",
        "        sys.stderr.write('Downloading: \"{}\" to {}\\n'.format(url, filename))\n",
        "        utils.download_url_to_file(url, filename)\n",
        "    files.append(filename)\n",
        "\n",
        "# REPLACE FILES WITH YOUR IMAGE PATHS\n",
        "# files = ['img0.tif', 'img1.tif']\n",
        "    \n",
        "imgs = [skimage.io.imread(f) for f in files]\n",
        "nimg = len(imgs)\n",
        "\n",
        "plt.figure(figsize=(12,4))\n",
        "for k,img in enumerate(imgs):\n",
        "    plt.subplot(1,3,k+1)\n",
        "    plt.imshow(img)"
      ],
      "execution_count": 0,
      "outputs": []
    },
    {
      "cell_type": "code",
      "metadata": {
        "id": "C8RhQrsz2WTd",
        "colab_type": "code",
        "colab": {}
      },
      "source": [
        "\n",
        "from cellpose import models\n",
        "\n",
        "# DEFINE CELLPOSE MODEL\n",
        "# model_type='cyto' or model_type='nuclei'\n",
        "model = models.Cellpose(gpu=False, model_type='cyto')\n",
        "\n",
        "# define CHANNELS to run segementation on\n",
        "# grayscale=0, R=1, G=2, B=3\n",
        "# channels = [cytoplasm, nucleus]\n",
        "# if NUCLEUS channel does not exist, set the second channel to 0\n",
        "# channels = [0,0]\n",
        "# IF ALL YOUR IMAGES ARE THE SAME TYPE, you can give a list with 2 elements\n",
        "# channels = [0,0] # IF YOU HAVE GRAYSCALE\n",
        "# channels = [2,3] # IF YOU HAVE G=cytoplasm and B=nucleus\n",
        "# channels = [2,1] # IF YOU HAVE G=cytoplasm and R=nucleus\n",
        "\n",
        "# or if you have different types of channels in each image\n",
        "channels = [[2,3], [0,0], [0,0]]\n",
        "\n",
        "# if diameter is set to None, the size of the cells is estimated on a per image basis\n",
        "# you can set the average cell `diameter` in pixels yourself (recommended) \n",
        "# diameter can be a list or a single number for all images\n",
        "masks, flows, styles, diams = model.eval(imgs, diameter=None, channels=channels)"
      ],
      "execution_count": 0,
      "outputs": []
    },
    {
      "cell_type": "code",
      "metadata": {
        "id": "4IOWl8dI2Zfd",
        "colab_type": "code",
        "colab": {}
      },
      "source": [
        "# DISPLAY RESULTS\n",
        "from cellpose import plot\n",
        "\n",
        "nimg = len(imgs)\n",
        "for idx in range(nimg):\n",
        "    maski = masks[idx]\n",
        "    flowi = flows[idx][0]\n",
        "\n",
        "    fig = plt.figure(figsize=(12,5))\n",
        "    plot.show_segmentation(fig, imgs[idx], maski, flowi, channels=channels[idx])\n",
        "    plt.tight_layout()\n",
        "    plt.show()"
      ],
      "execution_count": 0,
      "outputs": []
    }
  ]
}